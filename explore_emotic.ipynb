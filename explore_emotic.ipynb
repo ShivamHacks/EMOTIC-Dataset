{
 "cells": [
  {
   "cell_type": "code",
   "execution_count": 27,
   "metadata": {},
   "outputs": [],
   "source": [
    "from scipy.io import loadmat\n",
    "import random"
   ]
  },
  {
   "cell_type": "code",
   "execution_count": 5,
   "metadata": {},
   "outputs": [],
   "source": [
    "annotations = loadmat('annotations/Annotations.mat')"
   ]
  },
  {
   "cell_type": "code",
   "execution_count": 283,
   "metadata": {},
   "outputs": [],
   "source": [
    "\"\"\"\n",
    "A lot of data is wrapped in single-element arrays (could be\n",
    "converting from .mat to numpy array). This will make it easier\n",
    "to work with the data.\n",
    "\"\"\"\n",
    "train = [{\n",
    "    'filename'  : sample[0][0],\n",
    "    'folder'    : sample[1][0],\n",
    "    'image_size': {\n",
    "        'width' : sample[2][0][0][0][0][0],\n",
    "        'height': sample[2][0][0][1][0][0]\n",
    "    },\n",
    "    'original_database': sample[3][0][0][0][0],\n",
    "    'person': [{\n",
    "        'body_bbox': [i for i in person[0][0]],# can keep this numpy array\n",
    "        'annotations_categories': [\n",
    "            category[0] for category in person[1][0][0][0][0]\n",
    "        ],\n",
    "        'annotations_continuous': {\n",
    "            'valence'  : person[2][0][0][0][0][0],\n",
    "            'arousal'  : person[2][0][0][1][0][0],\n",
    "            'dominance': person[2][0][0][2][0][0],\n",
    "        },\n",
    "        'gender': person[3][0],\n",
    "        'age': person[4][0]\n",
    "    } for person in sample[4][0]]\n",
    "} for sample in annotations['train'][0]]"
   ]
  },
  {
   "cell_type": "code",
   "execution_count": 285,
   "metadata": {},
   "outputs": [
    {
     "name": "stdout",
     "output_type": "stream",
     "text": [
      "Number of training samples: 17077\n",
      "Example train sample:\n",
      "filename         : frame_lycyhjygkwqe16x4.jpg\n",
      "folder           : framesdb/images\n",
      "image_size       : 2448 x 1632\n",
      "original_database: framesdb\n",
      "    ----- PERSON 1 -----\n",
      "    body_bbox             : [1349.0, 434.0, 1505.0, 922.0]\n",
      "    annotations_categories: ['Engagement']\n",
      "    annotations_continuous:  {'valence': 6, 'arousal': 4, 'dominance': 8}\n",
      "    gender               :  Male\n",
      "    age                  :  Adult\n",
      "    ----- PERSON 2 -----\n",
      "    body_bbox             : [1817.0, 463.0, 2021.0, 1091.0]\n",
      "    annotations_categories: ['Engagement']\n",
      "    annotations_continuous:  {'valence': 5, 'arousal': 9, 'dominance': 8}\n",
      "    gender               :  Female\n",
      "    age                  :  Adult\n"
     ]
    }
   ],
   "source": [
    "print(\"Number of training samples:\", len(train))\n",
    "print(\"Example train sample:\")\n",
    "sample = random.choice(train)\n",
    "\n",
    "def print_train_sample(sample):\n",
    "    print(\"filename         :\", sample['filename'])\n",
    "    print(\"folder           :\", sample['folder'])\n",
    "    print(\"image_size       :\", str(sample['image_size']['width'])\n",
    "          + \" x \" + str(sample['image_size']['height']))\n",
    "    print(\"original_database:\", sample['original_database'])\n",
    "    tab = \"    \"\n",
    "    for i, person in enumerate(sample['person']):\n",
    "        print(tab + \"----- PERSON \" + str(i + 1) + \" -----\")\n",
    "        print(tab + \"body_bbox             :\", str(person['body_bbox']))\n",
    "        print(tab + \"annotations_categories:\", \n",
    "              str(person['annotations_categories']))\n",
    "        print(tab + \"annotations_continuous: \",\n",
    "              str(person['annotations_continuous']))\n",
    "        print(tab + \"gender               : \", person['gender'])\n",
    "        print(tab + \"age                  : \", person['age'])\n",
    "    \n",
    "print_train_sample(sample)\n",
    "\n",
    "# TODO: plot distribution of # of people in a picture"
   ]
  }
 ],
 "metadata": {
  "kernelspec": {
   "display_name": "Python 3",
   "language": "python",
   "name": "python3"
  },
  "language_info": {
   "codemirror_mode": {
    "name": "ipython",
    "version": 3
   },
   "file_extension": ".py",
   "mimetype": "text/x-python",
   "name": "python",
   "nbconvert_exporter": "python",
   "pygments_lexer": "ipython3",
   "version": "3.5.2"
  }
 },
 "nbformat": 4,
 "nbformat_minor": 2
}
