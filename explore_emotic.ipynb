{
 "cells": [
  {
   "cell_type": "code",
   "execution_count": 27,
   "metadata": {},
   "outputs": [],
   "source": [
    "from scipy.io import loadmat\n",
    "import random"
   ]
  },
  {
   "cell_type": "code",
   "execution_count": 5,
   "metadata": {},
   "outputs": [],
   "source": [
    "\"\"\"\n",
    "Structure of annotations:\n",
    "\n",
    "TRAIN: filename, folder, image_size, original_database, person\n",
    "\"\"\"\n",
    "\n",
    "annotations = loadmat('annotations/Annotations.mat')"
   ]
  },
  {
   "cell_type": "code",
   "execution_count": 54,
   "metadata": {},
   "outputs": [
    {
     "name": "stdout",
     "output_type": "stream",
     "text": [
      "<class 'dict'>\n",
      "<class 'numpy.ndarray'>\n",
      "1\n",
      "17077\n",
      "5\n",
      "First Sample:\n",
      "(array(['COCO_val2014_000000562243.jpg'], dtype='<U29'), array(['mscoco/images'], dtype='<U13'), array([[(array([[640]], dtype=uint16), array([[640]], dtype=uint16))]],\n",
      "      dtype=[('n_col', 'O'), ('n_row', 'O')]), array([[(array(['mscoco'], dtype='<U6'), array([[(array([[562243]], dtype=int32), array([[448867]], dtype=int32))]],\n",
      "      dtype=[('image_id', 'O'), ('annotations_id', 'O')]))]],\n",
      "      dtype=[('name', 'O'), ('info', 'O')]), array([[(array([[ 86,  58, 564, 628]], dtype=uint16), array([[(array([[array(['Disconnection'], dtype='<U13'),\n",
      "        array(['Doubt/Confusion'], dtype='<U15')]], dtype=object),)]],\n",
      "      dtype=[('categories', 'O')]), array([[(array([[5]], dtype=uint8), array([[3]], dtype=uint8), array([[9]], dtype=uint8))]],\n",
      "      dtype=[('valence', 'O'), ('arousal', 'O'), ('dominance', 'O')]), array(['Male'], dtype='<U4'), array(['Adult'], dtype='<U5'))]],\n",
      "      dtype=[('body_bbox', 'O'), ('annotations_categories', 'O'), ('annotations_continuous', 'O'), ('gender', 'O'), ('age', 'O')]))\n"
     ]
    }
   ],
   "source": [
    "print(type(annotations))\n",
    "print(type(annotations['train']))\n",
    "print(len(annotations['train']))\n",
    "print(len(annotations['train'][0]))\n",
    "print(len(annotations['train'][0][0]))\n",
    "\n",
    "print(\"First Sample:\")\n",
    "print(annotations['train'][0][0])"
   ]
  },
  {
   "cell_type": "code",
   "execution_count": 215,
   "metadata": {},
   "outputs": [
    {
     "name": "stdout",
     "output_type": "stream",
     "text": [
      "17077\n",
      "{'image_size': {'width': 640, 'height': 480}, 'original_database': 'mscoco', 'folder': 'mscoco/images', 'filename': 'COCO_train2014_000000274267.jpg', 'person': [{'body_bbox': [276, 21, 411, 225], 'annotations_categories': ['Anticipation']}]}\n"
     ]
    }
   ],
   "source": [
    "\"\"\"\n",
    "A lot of data is wrapped in single-element arrays (could be\n",
    "converting from .mat to numpy array). This will make it easier\n",
    "to work with the data.\n",
    "\"\"\"\n",
    "train = [{\n",
    "    'filename'  : sample[0][0],\n",
    "    'folder'    : sample[1][0],\n",
    "    'image_size': {\n",
    "        'width' : sample[2][0][0][0][0][0],\n",
    "        'height': sample[2][0][0][1][0][0]\n",
    "    },\n",
    "    'original_database': sample[3][0][0][0][0],\n",
    "    'person': [{\n",
    "        'body_bbox': [i for i in person[0][0]],# can keep this numpy array\n",
    "        'annotations_categories': [\n",
    "            category[0] for category in person[1][0][0][0][0]\n",
    "        ]\n",
    "    } for person in sample[4][0]]\n",
    "} for sample in annotations['train'][0]]\n",
    "\n",
    "print(len(train))\n",
    "print(random.choice(train))"
   ]
  },
  {
   "cell_type": "code",
   "execution_count": 206,
   "metadata": {},
   "outputs": [
    {
     "name": "stdout",
     "output_type": "stream",
     "text": [
      "person:  3\n",
      "box:  [[208  48 333 425]]\n",
      "cat:  ['Affection', 'Peace', 'Pleasure']\n"
     ]
    }
   ],
   "source": [
    "train = annotations['train'][0]\n",
    "for i in range(1):\n",
    "    sample = random.choice(train)\n",
    "    #print(\"filename:   \", sample[0][0])\n",
    "    #print(\"folder:     \", sample[1][0])\n",
    "    #print(\"image size: \", str(sample[2][0][0][0][0][0]) + \" x \" + str(sample[2][0][0][1][0][0]))\n",
    "    #print(\"len   : \", len(sample[4][0]))\n",
    "    person = sample[4][0]\n",
    "    print(\"person: \", len(person[0][1][0][0][0][0]))\n",
    "    print(\"box: \", person[0][0])\n",
    "    print(\"cat: \", [category[0] for category in person[0][1][0][0][0][0]])"
   ]
  },
  {
   "cell_type": "code",
   "execution_count": 53,
   "metadata": {},
   "outputs": [
    {
     "name": "stdout",
     "output_type": "stream",
     "text": [
      "<class 'numpy.ndarray'>\n"
     ]
    }
   ],
   "source": []
  },
  {
   "cell_type": "code",
   "execution_count": null,
   "metadata": {},
   "outputs": [],
   "source": []
  }
 ],
 "metadata": {
  "kernelspec": {
   "display_name": "Python 3",
   "language": "python",
   "name": "python3"
  },
  "language_info": {
   "codemirror_mode": {
    "name": "ipython",
    "version": 3
   },
   "file_extension": ".py",
   "mimetype": "text/x-python",
   "name": "python",
   "nbconvert_exporter": "python",
   "pygments_lexer": "ipython3",
   "version": "3.5.2"
  }
 },
 "nbformat": 4,
 "nbformat_minor": 2
}
